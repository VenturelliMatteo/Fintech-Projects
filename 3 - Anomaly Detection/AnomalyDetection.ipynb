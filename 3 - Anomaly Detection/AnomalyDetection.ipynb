{
 "cells": [
  {
   "attachments": {},
   "cell_type": "markdown",
   "metadata": {},
   "source": [
    "##### Setup"
   ]
  },
  {
   "cell_type": "code",
   "execution_count": 66,
   "metadata": {},
   "outputs": [],
   "source": [
    "import numpy as np\n",
    "import pandas as pd\n",
    "import matplotlib.pyplot as plt\n",
    "import seaborn as sns\n",
    "import yfinance as yf\n",
    "import tensorflow as tf\n",
    "tfk = tf.keras\n",
    "tfkl = tf.keras.layers\n",
    "import sklearn as skl\n",
    "import scipy\n",
    "import random\n",
    "from statsmodels.tsa.stattools import adfuller\n",
    "from statsmodels.graphics import tsaplots  \n",
    "\n",
    "import warnings\n",
    "import os\n",
    "\n",
    "seed = 33\n",
    "tf.random.set_seed(seed)\n",
    "random.seed(seed)\n",
    "os.environ['PYTHONHASHSEED']=str(seed)\n",
    "tf.compat.v1.set_random_seed(seed)\n",
    "\n",
    "warnings.simplefilter(action='ignore', category=FutureWarning)\n",
    "warnings.simplefilter(action='ignore', category=Warning)"
   ]
  },
  {
   "attachments": {},
   "cell_type": "markdown",
   "metadata": {},
   "source": [
    "# Data Exploration and Preparation"
   ]
  },
  {
   "attachments": {},
   "cell_type": "markdown",
   "metadata": {},
   "source": [
    "## Data Exploration"
   ]
  },
  {
   "attachments": {},
   "cell_type": "markdown",
   "metadata": {},
   "source": [
    "## Preprocessing"
   ]
  },
  {
   "cell_type": "code",
   "execution_count": 62,
   "metadata": {},
   "outputs": [],
   "source": [
    "df = pd.read_excel('FinancialMarketData.xlsx', 'EWS')"
   ]
  },
  {
   "attachments": {},
   "cell_type": "markdown",
   "metadata": {},
   "source": [
    "Retrieving S&P 500 stock market index from yfinance, creating feature <code>SP_GOLD</code> and appending it to the dataframe."
   ]
  },
  {
   "cell_type": "code",
   "execution_count": 63,
   "metadata": {},
   "outputs": [
    {
     "name": "stdout",
     "output_type": "stream",
     "text": [
      "[*********************100%***********************]  1 of 1 completed\n"
     ]
    }
   ],
   "source": [
    "# defining starting (first row) and ending (last row) dates to download data from yfinance\n",
    "start_date = str(df['Data'][0])[:10]\n",
    "end_date = str(df['Data'][df.shape[0]-1])[:10]\n",
    "\n",
    "# downloading 'close' data from yfinance \n",
    "sp500 = yf.download('^GSPC', start=start_date, end=end_date, interval='1wk')\n",
    "sp500 = sp500['Close']\n",
    "\n",
    "# defining the new feature SP500/GOLD and renaming the column\n",
    "sp500_gold = pd.DataFrame(sp500.to_numpy() / df['XAU BGNL'].to_numpy())\n",
    "sp500_gold.columns = ['SP_GOLD']\n",
    "\n",
    "# concatenating the new feature to the original dataframe\n",
    "df = pd.concat([df, sp500_gold], axis=1)"
   ]
  },
  {
   "cell_type": "code",
   "execution_count": 64,
   "metadata": {},
   "outputs": [],
   "source": [
    "reduced_features = ['SP_GOLD', 'Cl1', 'MXCN', 'MXEU', 'MXJP', 'MXRU', 'MXUS', 'VIX', 'GT10', 'ECSURPUS', 'Y']\n",
    "reduced_df = df[reduced_features]"
   ]
  },
  {
   "cell_type": "code",
   "execution_count": 65,
   "metadata": {},
   "outputs": [
    {
     "data": {
      "text/html": [
       "<div>\n",
       "<style scoped>\n",
       "    .dataframe tbody tr th:only-of-type {\n",
       "        vertical-align: middle;\n",
       "    }\n",
       "\n",
       "    .dataframe tbody tr th {\n",
       "        vertical-align: top;\n",
       "    }\n",
       "\n",
       "    .dataframe thead th {\n",
       "        text-align: right;\n",
       "    }\n",
       "</style>\n",
       "<table border=\"1\" class=\"dataframe\">\n",
       "  <thead>\n",
       "    <tr style=\"text-align: right;\">\n",
       "      <th></th>\n",
       "      <th>SP_GOLD</th>\n",
       "      <th>Cl1</th>\n",
       "      <th>MXCN</th>\n",
       "      <th>MXEU</th>\n",
       "      <th>MXJP</th>\n",
       "      <th>MXRU</th>\n",
       "      <th>MXUS</th>\n",
       "      <th>VIX</th>\n",
       "      <th>GT10</th>\n",
       "      <th>ECSURPUS</th>\n",
       "      <th>Y</th>\n",
       "    </tr>\n",
       "  </thead>\n",
       "  <tbody>\n",
       "    <tr>\n",
       "      <th>0</th>\n",
       "      <td>5.172639</td>\n",
       "      <td>25.77</td>\n",
       "      <td>34.30</td>\n",
       "      <td>127.75</td>\n",
       "      <td>990.59</td>\n",
       "      <td>224.33</td>\n",
       "      <td>1416.12</td>\n",
       "      <td>22.50</td>\n",
       "      <td>6.657</td>\n",
       "      <td>0.077</td>\n",
       "      <td>0</td>\n",
       "    </tr>\n",
       "    <tr>\n",
       "      <th>1</th>\n",
       "      <td>5.010812</td>\n",
       "      <td>28.85</td>\n",
       "      <td>32.74</td>\n",
       "      <td>129.50</td>\n",
       "      <td>993.98</td>\n",
       "      <td>234.37</td>\n",
       "      <td>1428.79</td>\n",
       "      <td>21.50</td>\n",
       "      <td>6.748</td>\n",
       "      <td>0.043</td>\n",
       "      <td>0</td>\n",
       "    </tr>\n",
       "    <tr>\n",
       "      <th>2</th>\n",
       "      <td>4.736758</td>\n",
       "      <td>28.28</td>\n",
       "      <td>32.46</td>\n",
       "      <td>126.48</td>\n",
       "      <td>974.83</td>\n",
       "      <td>216.82</td>\n",
       "      <td>1385.93</td>\n",
       "      <td>23.02</td>\n",
       "      <td>6.692</td>\n",
       "      <td>0.135</td>\n",
       "      <td>0</td>\n",
       "    </tr>\n",
       "    <tr>\n",
       "      <th>3</th>\n",
       "      <td>5.037560</td>\n",
       "      <td>28.22</td>\n",
       "      <td>31.29</td>\n",
       "      <td>129.19</td>\n",
       "      <td>1007.12</td>\n",
       "      <td>201.89</td>\n",
       "      <td>1385.31</td>\n",
       "      <td>23.45</td>\n",
       "      <td>6.619</td>\n",
       "      <td>0.191</td>\n",
       "      <td>0</td>\n",
       "    </tr>\n",
       "    <tr>\n",
       "      <th>4</th>\n",
       "      <td>4.648525</td>\n",
       "      <td>28.02</td>\n",
       "      <td>31.32</td>\n",
       "      <td>134.67</td>\n",
       "      <td>1034.58</td>\n",
       "      <td>218.00</td>\n",
       "      <td>1411.95</td>\n",
       "      <td>21.25</td>\n",
       "      <td>6.613</td>\n",
       "      <td>0.312</td>\n",
       "      <td>1</td>\n",
       "    </tr>\n",
       "    <tr>\n",
       "      <th>...</th>\n",
       "      <td>...</td>\n",
       "      <td>...</td>\n",
       "      <td>...</td>\n",
       "      <td>...</td>\n",
       "      <td>...</td>\n",
       "      <td>...</td>\n",
       "      <td>...</td>\n",
       "      <td>...</td>\n",
       "      <td>...</td>\n",
       "      <td>...</td>\n",
       "      <td>...</td>\n",
       "    </tr>\n",
       "    <tr>\n",
       "      <th>1106</th>\n",
       "      <td>2.300134</td>\n",
       "      <td>57.76</td>\n",
       "      <td>110.83</td>\n",
       "      <td>140.32</td>\n",
       "      <td>1199.57</td>\n",
       "      <td>681.21</td>\n",
       "      <td>3800.77</td>\n",
       "      <td>20.30</td>\n",
       "      <td>1.622</td>\n",
       "      <td>0.339</td>\n",
       "      <td>0</td>\n",
       "    </tr>\n",
       "    <tr>\n",
       "      <th>1107</th>\n",
       "      <td>2.384887</td>\n",
       "      <td>60.55</td>\n",
       "      <td>108.80</td>\n",
       "      <td>142.76</td>\n",
       "      <td>1206.29</td>\n",
       "      <td>693.38</td>\n",
       "      <td>3835.96</td>\n",
       "      <td>19.61</td>\n",
       "      <td>1.706</td>\n",
       "      <td>0.303</td>\n",
       "      <td>0</td>\n",
       "    </tr>\n",
       "    <tr>\n",
       "      <th>1108</th>\n",
       "      <td>2.368409</td>\n",
       "      <td>59.33</td>\n",
       "      <td>111.92</td>\n",
       "      <td>144.13</td>\n",
       "      <td>1194.62</td>\n",
       "      <td>673.20</td>\n",
       "      <td>3955.16</td>\n",
       "      <td>18.12</td>\n",
       "      <td>1.658</td>\n",
       "      <td>0.440</td>\n",
       "      <td>0</td>\n",
       "    </tr>\n",
       "    <tr>\n",
       "      <th>1109</th>\n",
       "      <td>2.401730</td>\n",
       "      <td>60.18</td>\n",
       "      <td>108.40</td>\n",
       "      <td>144.23</td>\n",
       "      <td>1197.06</td>\n",
       "      <td>680.23</td>\n",
       "      <td>4027.05</td>\n",
       "      <td>16.65</td>\n",
       "      <td>1.616</td>\n",
       "      <td>0.467</td>\n",
       "      <td>0</td>\n",
       "    </tr>\n",
       "    <tr>\n",
       "      <th>1110</th>\n",
       "      <td>2.323365</td>\n",
       "      <td>62.50</td>\n",
       "      <td>110.31</td>\n",
       "      <td>146.39</td>\n",
       "      <td>1196.16</td>\n",
       "      <td>685.43</td>\n",
       "      <td>4043.69</td>\n",
       "      <td>18.46</td>\n",
       "      <td>1.565</td>\n",
       "      <td>0.492</td>\n",
       "      <td>0</td>\n",
       "    </tr>\n",
       "  </tbody>\n",
       "</table>\n",
       "<p>1111 rows × 11 columns</p>\n",
       "</div>"
      ],
      "text/plain": [
       "       SP_GOLD    Cl1    MXCN    MXEU     MXJP    MXRU     MXUS    VIX   GT10   \n",
       "0     5.172639  25.77   34.30  127.75   990.59  224.33  1416.12  22.50  6.657  \\\n",
       "1     5.010812  28.85   32.74  129.50   993.98  234.37  1428.79  21.50  6.748   \n",
       "2     4.736758  28.28   32.46  126.48   974.83  216.82  1385.93  23.02  6.692   \n",
       "3     5.037560  28.22   31.29  129.19  1007.12  201.89  1385.31  23.45  6.619   \n",
       "4     4.648525  28.02   31.32  134.67  1034.58  218.00  1411.95  21.25  6.613   \n",
       "...        ...    ...     ...     ...      ...     ...      ...    ...    ...   \n",
       "1106  2.300134  57.76  110.83  140.32  1199.57  681.21  3800.77  20.30  1.622   \n",
       "1107  2.384887  60.55  108.80  142.76  1206.29  693.38  3835.96  19.61  1.706   \n",
       "1108  2.368409  59.33  111.92  144.13  1194.62  673.20  3955.16  18.12  1.658   \n",
       "1109  2.401730  60.18  108.40  144.23  1197.06  680.23  4027.05  16.65  1.616   \n",
       "1110  2.323365  62.50  110.31  146.39  1196.16  685.43  4043.69  18.46  1.565   \n",
       "\n",
       "      ECSURPUS  Y  \n",
       "0        0.077  0  \n",
       "1        0.043  0  \n",
       "2        0.135  0  \n",
       "3        0.191  0  \n",
       "4        0.312  1  \n",
       "...        ... ..  \n",
       "1106     0.339  0  \n",
       "1107     0.303  0  \n",
       "1108     0.440  0  \n",
       "1109     0.467  0  \n",
       "1110     0.492  0  \n",
       "\n",
       "[1111 rows x 11 columns]"
      ]
     },
     "execution_count": 65,
     "metadata": {},
     "output_type": "execute_result"
    }
   ],
   "source": [
    "reduced_df"
   ]
  },
  {
   "attachments": {},
   "cell_type": "markdown",
   "metadata": {},
   "source": [
    "Calculate the returns, split the dataset into training and validation and then normalize"
   ]
  },
  {
   "cell_type": "code",
   "execution_count": null,
   "metadata": {},
   "outputs": [],
   "source": []
  },
  {
   "attachments": {},
   "cell_type": "markdown",
   "metadata": {},
   "source": [
    "<code>train_val_split</code> function is used to split the original dataset into training and validation sets (according to specified <code>train_fraction</code>, which is set to 0.8 by default)."
   ]
  },
  {
   "cell_type": "code",
   "execution_count": 14,
   "metadata": {},
   "outputs": [],
   "source": [
    "def train_val_split(df, train_fraction = 0.8):\n",
    "\n",
    "    split_index = int(df.shape[0]*train_fraction)\n",
    "    train_df = df.iloc[:split_index]\n",
    "    val_df = df.iloc[split_index:]\n",
    "\n",
    "    return train_df, val_df"
   ]
  },
  {
   "cell_type": "code",
   "execution_count": 15,
   "metadata": {},
   "outputs": [],
   "source": [
    "train_df, val_df = train_val_split(df)"
   ]
  },
  {
   "attachments": {},
   "cell_type": "markdown",
   "metadata": {},
   "source": [
    "# Anomaly Detection"
   ]
  },
  {
   "attachments": {},
   "cell_type": "markdown",
   "metadata": {},
   "source": [
    "## Copulas"
   ]
  },
  {
   "attachments": {},
   "cell_type": "markdown",
   "metadata": {},
   "source": [
    "## Autoencoder (fully connected)"
   ]
  },
  {
   "attachments": {},
   "cell_type": "markdown",
   "metadata": {},
   "source": [
    "## Autoencoder (convolutional)"
   ]
  },
  {
   "attachments": {},
   "cell_type": "markdown",
   "metadata": {},
   "source": [
    "## LSTM"
   ]
  },
  {
   "attachments": {},
   "cell_type": "markdown",
   "metadata": {},
   "source": [
    "## Transformers"
   ]
  },
  {
   "attachments": {},
   "cell_type": "markdown",
   "metadata": {},
   "source": [
    "## Bagging"
   ]
  },
  {
   "attachments": {},
   "cell_type": "markdown",
   "metadata": {},
   "source": [
    "# Portfolio"
   ]
  }
 ],
 "metadata": {
  "kernelspec": {
   "display_name": "Python 3",
   "language": "python",
   "name": "python3"
  },
  "language_info": {
   "codemirror_mode": {
    "name": "ipython",
    "version": 3
   },
   "file_extension": ".py",
   "mimetype": "text/x-python",
   "name": "python",
   "nbconvert_exporter": "python",
   "pygments_lexer": "ipython3",
   "version": "3.10.11"
  },
  "orig_nbformat": 4,
  "vscode": {
   "interpreter": {
    "hash": "cf44e1cfd43590f45f0e2b5c28e0f46babf55befe4ad1bacdd60a06d73372734"
   }
  }
 },
 "nbformat": 4,
 "nbformat_minor": 2
}
