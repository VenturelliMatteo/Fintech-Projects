{
 "cells": [
  {
   "cell_type": "code",
   "execution_count": 7,
   "metadata": {},
   "outputs": [],
   "source": [
    "import numpy as np\n",
    "import pandas as pd\n",
    "import matplotlib.pyplot as plt\n",
    "import seaborn as sns\n",
    "import yfinance as yf\n",
    "import tensorflow as tf\n",
    "tfk = tf.keras\n",
    "tfkl = tf.keras.layers\n",
    "import sklearn as skl\n",
    "import scipy\n",
    "import random\n",
    "\n",
    "\n",
    "import warnings\n",
    "import os\n",
    "\n",
    "seed = 69\n",
    "tf.random.set_seed(seed)\n",
    "random.seed(seed)\n",
    "os.environ['PYTHONHASHSEED']=str(seed)\n",
    "tf.compat.v1.set_random_seed(seed)\n",
    "\n",
    "warnings.simplefilter(action='ignore', category=FutureWarning)\n",
    "warnings.simplefilter(action='ignore', category=Warning)"
   ]
  },
  {
   "cell_type": "code",
   "execution_count": 8,
   "metadata": {},
   "outputs": [],
   "source": [
    "df = pd.read_excel('FinancialMarketData.xlsx', 'EWS')"
   ]
  }
 ],
 "metadata": {
  "kernelspec": {
   "display_name": "Python 3",
   "language": "python",
   "name": "python3"
  },
  "language_info": {
   "codemirror_mode": {
    "name": "ipython",
    "version": 3
   },
   "file_extension": ".py",
   "mimetype": "text/x-python",
   "name": "python",
   "nbconvert_exporter": "python",
   "pygments_lexer": "ipython3",
   "version": "3.10.11"
  },
  "orig_nbformat": 4,
  "vscode": {
   "interpreter": {
    "hash": "cf44e1cfd43590f45f0e2b5c28e0f46babf55befe4ad1bacdd60a06d73372734"
   }
  }
 },
 "nbformat": 4,
 "nbformat_minor": 2
}
