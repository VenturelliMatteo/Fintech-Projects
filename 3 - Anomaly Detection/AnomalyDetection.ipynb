{
 "cells": [
  {
   "attachments": {},
   "cell_type": "markdown",
   "metadata": {},
   "source": [
    "### Setup"
   ]
  },
  {
   "cell_type": "code",
   "execution_count": 1,
   "metadata": {},
   "outputs": [],
   "source": [
    "import numpy as np\n",
    "import pandas as pd\n",
    "import matplotlib.pyplot as plt\n",
    "import seaborn as sns\n",
    "import yfinance as yf\n",
    "import tensorflow as tf\n",
    "tfk = tf.keras\n",
    "tfkl = tf.keras.layers\n",
    "import random\n",
    "\n",
    "from statsmodels.tsa.stattools import adfuller\n",
    "from statsmodels.graphics import tsaplots\n",
    "\n",
    "from sklearn import svm\n",
    "from keras import backend as K\n",
    "from sklearn.utils import shuffle\n",
    "from sklearn.ensemble import RandomForestClassifier\n",
    "from sklearn.model_selection import cross_val_predict\n",
    "from sklearn.metrics import accuracy_score, recall_score, precision_score, f1_score, confusion_matrix\n",
    "\n",
    "import warnings\n",
    "import os\n",
    "import sys\n",
    "\n",
    "seed = 33\n",
    "tf.random.set_seed(seed)\n",
    "random.seed(seed)\n",
    "os.environ['PYTHONHASHSEED']=str(seed)\n",
    "tf.compat.v1.set_random_seed(seed)\n",
    "\n",
    "warnings.simplefilter(action='ignore', category=FutureWarning)\n",
    "warnings.simplefilter(action='ignore', category=Warning)"
   ]
  },
  {
   "attachments": {},
   "cell_type": "markdown",
   "metadata": {},
   "source": [
    "# Data Exploration and Preparation"
   ]
  },
  {
   "attachments": {},
   "cell_type": "markdown",
   "metadata": {},
   "source": [
    "### Data Exploration"
   ]
  },
  {
   "attachments": {},
   "cell_type": "markdown",
   "metadata": {},
   "source": [
    "<code>Insert data exploration here</code>"
   ]
  },
  {
   "attachments": {},
   "cell_type": "markdown",
   "metadata": {},
   "source": [
    "### Preprocessing"
   ]
  },
  {
   "attachments": {},
   "cell_type": "markdown",
   "metadata": {},
   "source": [
    "##### Functions definitions"
   ]
  },
  {
   "attachments": {},
   "cell_type": "markdown",
   "metadata": {},
   "source": [
    "- Defining <code>add_sp_gold</code> to:\n",
    "\n",
    "    - retrieve ${\\text{S\\&P 500}}$ stock market index from yfinance;\n",
    "    - create feature <code>SP_GOLD</code> by computing ${\\text{S\\&P 500}}/{\\text{XAU BGNL}}$;\n",
    "    - append it to the dataframe.\n",
    "<br>\n",
    "<br>\n",
    "- Defining <code>compute_returns</code> to transform not-index and not-label data into weekly returns.\n",
    "\n",
    "- Defining <code>train_val_split</code> function to split the original dataset into training and validation sets according to <code>train_fraction</code>, which is set to $0.8$ by default.\n",
    "\n",
    "- Defining <code>scaler</code> to scale the data. Default is $\\text{Stadard}$ scaling, otherwise $\\text{MinMax}$ scaling can be applied."
   ]
  },
  {
   "cell_type": "code",
   "execution_count": 2,
   "metadata": {},
   "outputs": [],
   "source": [
    "def add_sp_gold(df):\n",
    "\n",
    "    # defining starting (first row) and ending (last row) dates to download data from yfinance\n",
    "    start_date = str(df['Data'][0])[:10]\n",
    "    end_date = str(df['Data'][df.shape[0]-1])[:10]\n",
    "\n",
    "    # downloading 'close' data from yfinance \n",
    "    sp500 = yf.download('^GSPC', start=start_date, end=end_date, interval='1wk')\n",
    "    sp500 = sp500['Close']\n",
    "\n",
    "    # defining the new feature SP500/GOLD and renaming the column\n",
    "    sp500_gold = pd.DataFrame(sp500.to_numpy() / df['XAU BGNL'].to_numpy())\n",
    "    sp500_gold.columns = ['SP_GOLD']\n",
    "\n",
    "    # concatenating the new feature to the original dataframe\n",
    "    df = pd.concat([df, sp500_gold], axis=1)\n",
    "\n",
    "    return df\n",
    "\n",
    "\n",
    "\n",
    "def compute_returns(df):\n",
    "\n",
    "    # these are the features which have to be transformed\n",
    "    returns_labels = ['Cl1', 'MXCN', 'MXEU', 'MXJP', 'MXRU', 'MXUS', 'VIX', 'GT10']\n",
    "    returns_features = df[returns_labels].to_numpy()\n",
    "\n",
    "    # calculating the returns as the differences between feature at time t and time t-1, divided by feature at time t-1 (times 100)\n",
    "    returns = pd.DataFrame(np.diff(returns_features, axis=0) / returns_features[:-1, :]) * 100\n",
    "\n",
    "    # restoring the original column names and indexes\n",
    "    returns.columns = returns_labels\n",
    "    returns.index = df.index[1:]\n",
    "    \n",
    "    # defining the new dataset as concatenation of the new, transformed features and the untouched ones\n",
    "    df_new = pd.concat([returns, df[['SP_GOLD', 'ECSURPUS', 'Y']].iloc[1:]], axis=1)\n",
    "\n",
    "    return df_new\n",
    "\n",
    "\n",
    "\n",
    "def train_val_split(df, train_fraction = 0.8):\n",
    "\n",
    "    split_index = int(df.shape[0]*train_fraction)\n",
    "    train_df = df.iloc[:split_index]\n",
    "    val_df = df.iloc[split_index:]\n",
    "\n",
    "    return train_df, val_df\n",
    "\n",
    "\n",
    "\n",
    "def scaler(t_df, v_df, scaling='Standard'):\n",
    "    \n",
    "    # defining new dataframe copies to work with in order to not modify the original ones\n",
    "    train_df = t_df.copy()\n",
    "    val_df = v_df.copy()\n",
    "    \n",
    "    columns = list(train_df.columns)\n",
    "    columns.remove('Y')\n",
    "\n",
    "    # if 'minmax' scaling is specified when calling the function, minmax scaling is applied to the data\n",
    "    if scaling.upper() == 'MINMAX':\n",
    "        for c in columns:\n",
    "            min = np.min(train_df[c])\n",
    "            max = np.max(train_df[c])\n",
    "            train_df[c] = (train_df[c]-min)/(max-min)\n",
    "            # to scale the data contained in the validation set we still use the minimum and the maximum\n",
    "            # of the data in the training set, since we should not exploit the knowledge of validation set data\n",
    "            val_df[c] = (val_df[c]-min)/(max-min)\n",
    "        print('MinMax scaling was applied')\n",
    "\n",
    "    # if nothing or something different from 'minmax' is specified, standard scaling is applied \n",
    "    else: \n",
    "        for c in columns:\n",
    "            mean = np.mean(train_df[c])\n",
    "            std = np.std(train_df[c])\n",
    "            train_df[c] = (train_df[c]-mean)/(std)\n",
    "            val_df[c] = (val_df[c]-mean)/(std)\n",
    "        print('Standard scaling was applied')\n",
    "\n",
    "        if scaling.upper() != 'STANDARD':\n",
    "            print('Inserted option was not available')\n",
    "    \n",
    "    return train_df, val_df"
   ]
  },
  {
   "attachments": {},
   "cell_type": "markdown",
   "metadata": {},
   "source": [
    "##### Preprocessing"
   ]
  },
  {
   "cell_type": "code",
   "execution_count": 3,
   "metadata": {},
   "outputs": [
    {
     "name": "stdout",
     "output_type": "stream",
     "text": [
      "[*********************100%***********************]  1 of 1 completed\n",
      "Standard scaling was applied\n"
     ]
    }
   ],
   "source": [
    "# reading dataframe from excel file\n",
    "df = pd.read_excel('FinancialMarketData.xlsx', 'EWS')\n",
    "\n",
    "# adding sp_gold column to dataframe\n",
    "df_sp_gold = add_sp_gold(df)\n",
    "\n",
    "# cutting out unnecessary features\n",
    "reduced_df = df_sp_gold[['Cl1', 'MXCN', 'MXEU', 'MXJP', 'MXRU', 'MXUS', 'VIX', 'GT10', 'ECSURPUS', 'SP_GOLD', 'Y']]\n",
    "\n",
    "# computing returns for non-index, non_label features\n",
    "returns_df = compute_returns(reduced_df)\n",
    "\n",
    "# splitting the dataframe into training and validation sets\n",
    "train_df, val_df = train_val_split(returns_df)\n",
    "\n",
    "# normalize the data\n",
    "train_df_norm, val_df_norm = scaler(train_df, val_df)"
   ]
  },
  {
   "cell_type": "code",
   "execution_count": 4,
   "metadata": {},
   "outputs": [],
   "source": [
    "# separating input data from labels\n",
    "x_train = train_df_norm.drop(labels = 'Y', axis = 1)\n",
    "x_val = val_df_norm.drop(labels = 'Y', axis = 1)\n",
    "y_train = train_df_norm['Y']\n",
    "y_val = val_df_norm['Y']"
   ]
  },
  {
   "attachments": {},
   "cell_type": "markdown",
   "metadata": {},
   "source": [
    "# Anomaly Detection"
   ]
  },
  {
   "attachments": {},
   "cell_type": "markdown",
   "metadata": {},
   "source": [
    "### Random Forest"
   ]
  },
  {
   "attachments": {},
   "cell_type": "markdown",
   "metadata": {},
   "source": [
    "##### Optimizing RF parameters"
   ]
  },
  {
   "cell_type": "code",
   "execution_count": 5,
   "metadata": {},
   "outputs": [
    {
     "name": "stdout",
     "output_type": "stream",
     "text": [
      "Best max_depth:\t\t12\n",
      "Best n_estimators:\t150\n",
      "Best min_samples_split:\t8\n",
      "Recall:\t\t0.399\n"
     ]
    }
   ],
   "source": [
    "# specifying parameter values to try out\n",
    "max_depth_list = [6, 8, 10, 12]\n",
    "n_estimators_list = [100, 150, 200]\n",
    "min_samples_split_list = [6, 8, 10]\n",
    "\n",
    "# initializing the 'best recall' value\n",
    "recall = 0\n",
    "\n",
    "# looping through each of the parameters to optimize and running random forest algorithm for each combination of the parameters.\n",
    "# if the recall metric obtained through cross-validation is higher than the current best recall, then the parameters values are stored\n",
    "for max_depth in max_depth_list:\n",
    "  for n_estimators in n_estimators_list:\n",
    "    for min_samples_split in min_samples_split_list:\n",
    "\n",
    "      rand_forest = RandomForestClassifier(n_estimators = n_estimators,\n",
    "                                           min_samples_split = min_samples_split,\n",
    "                                           criterion = 'entropy',\n",
    "                                           random_state = seed,\n",
    "                                           max_depth = max_depth)\n",
    "      rand_forest.fit(x_train, y_train)\n",
    "      y_pred = cross_val_predict(rand_forest, x_train, y_train, cv = 10)\n",
    "\n",
    "      if(recall_score(y_train, y_pred) > recall):\n",
    "        best_max_depth = max_depth\n",
    "        best_n_estimators = n_estimators\n",
    "        best_min_samples_split = min_samples_split\n",
    "        recall = recall_score(y_train, y_pred)\n",
    "\n",
    "\n",
    "print(f'Best max_depth:\\t\\t{best_max_depth}')\n",
    "print(f'Best n_estimators:\\t{best_n_estimators}')\n",
    "print(f'Best min_samples_split:\\t{best_min_samples_split}')\n",
    "print(f'Recall:\\t\\t{recall:.3f}')"
   ]
  },
  {
   "attachments": {},
   "cell_type": "markdown",
   "metadata": {},
   "source": [
    "##### Computing predictions with optimal RF parameters"
   ]
  },
  {
   "cell_type": "code",
   "execution_count": 6,
   "metadata": {},
   "outputs": [],
   "source": [
    "# values found from optimization above\n",
    "# best_n_estimators = 100\n",
    "# best_min_samples_split = 10\n",
    "# best_max_depth = 12"
   ]
  },
  {
   "cell_type": "code",
   "execution_count": 7,
   "metadata": {},
   "outputs": [],
   "source": [
    "# Computing predictions with optimal RF parameters\n",
    "rand_forest = RandomForestClassifier(n_estimators = best_n_estimators,\n",
    "                                     min_samples_split = best_min_samples_split,\n",
    "                                     criterion = 'entropy',\n",
    "                                     random_state = seed,\n",
    "                                     max_depth = best_max_depth)\n",
    "rand_forest.fit(x_train, y_train)\n",
    "y_pred = rand_forest.predict(x_val)"
   ]
  },
  {
   "cell_type": "code",
   "execution_count": 8,
   "metadata": {},
   "outputs": [
    {
     "name": "stdout",
     "output_type": "stream",
     "text": [
      "Accuracy:\t0.883\n",
      "Recall:\t\t0.207\n",
      "Precision:\t0.667\n",
      "F1score:\t0.316\n",
      "True Neg:\t85.59%\n",
      "False Pos:\t1.35%\n",
      "False Neg:\t10.36%\n",
      "True Pos:\t2.70%\n"
     ]
    }
   ],
   "source": [
    "# computing the confusion matrix and defining the values that will be contained in the confusion matrix plot\n",
    "cf_matrix = (confusion_matrix(y_val, y_pred, labels=[0, 1], sample_weight=None) / len(y_pred) * 100)\n",
    "\n",
    "group_names = ['True Neg', 'False Pos', 'False Neg', 'True Pos']\n",
    "group_percentages = ['{0:.2%}'.format(value) for value in cf_matrix.flatten()/np.sum(cf_matrix)]\n",
    "labels = [f'{v1}\\n{v3}' for v1, v3 in zip(group_names, group_percentages)]\n",
    "labels = np.asarray(labels).reshape(2,2)\n",
    "\n",
    "# printing the metrics\n",
    "print(f'Accuracy:\\t{accuracy_score(y_val, y_pred):.3f}')\n",
    "print(f'Recall:\\t\\t{recall_score(y_val, y_pred):.3f}')\n",
    "print(f'Precision:\\t{precision_score(y_val, y_pred):.3f}')\n",
    "print(f'F1score:\\t{f1_score(y_val, y_pred):.3f}')\n",
    "for var, val in zip(group_names, group_percentages):\n",
    "  print(f'{var}:\\t{val}')"
   ]
  },
  {
   "cell_type": "code",
   "execution_count": 9,
   "metadata": {},
   "outputs": [
    {
     "data": {
      "image/png": "[encoded data removed]",
      "text/plain": [
       "<Figure size 640x480 with 2 Axes>"
      ]
     },
     "metadata": {},
     "output_type": "display_data"
    }
   ],
   "source": [
    "# printing the confusion matrix\n",
    "_ = sns.heatmap(cf_matrix, annot=labels, fmt='', cmap='Blues')"
   ]
  },
  {
   "attachments": {},
   "cell_type": "markdown",
   "metadata": {},
   "source": [
    "### Support Vector Machines"
   ]
  },
  {
   "attachments": {},
   "cell_type": "markdown",
   "metadata": {},
   "source": [
    "##### Optimizing anomalies weight"
   ]
  },
  {
   "cell_type": "code",
   "execution_count": 10,
   "metadata": {},
   "outputs": [
    {
     "name": "stdout",
     "output_type": "stream",
     "text": [
      "Linear Kernel recall: 0.6634615384615384\n",
      "Linear Kernel weight: 4.5\n",
      "Radial Basis Funciton Kernel recall: 0.6682692307692307\n",
      "Radial Basis Function Kernel weight: 4.0\n"
     ]
    }
   ],
   "source": [
    "# initializing the 'best recall' value\n",
    "best_recall = 0\n",
    "\n",
    "# specifying possible values of the weights for the anomalies class\n",
    "min_w = 1\n",
    "max_w = 5\n",
    "step_w = 0.5\n",
    "\n",
    "# similarly to the RF case:\n",
    "# looping through the possible weight values and running SVM algorithm for each combination of the parameters.\n",
    "# if the recall metric obtained through cross-validation is higher than the current best recall, then the optimal weight value is stored\n",
    "for w in np.arange(min_w, max_w, step_w):\n",
    "    svm_linear = svm.SVC(kernel='linear', class_weight={0:1, 1:w}, random_state=seed)\n",
    "    svm_linear.fit(x_train, y_train)\n",
    "    y_pred_linear = cross_val_predict(svm_linear, x_train, y_train, cv = 10)\n",
    "    recall = recall_score(y_train, y_pred_linear)\n",
    "    if recall > best_recall:\n",
    "        best_recall = recall\n",
    "        linear_w = w\n",
    "\n",
    "print(f'Linear Kernel recall: {best_recall}')\n",
    "print(f'Linear Kernel weight: {linear_w:.1f}')\n",
    "\n",
    "# repeating the same procedure described above, but using the 'radial basis function' kernel instead of the 'linear' kernel\n",
    "best_recall = 0\n",
    "\n",
    "for w in np.arange(min_w, max_w, step_w):\n",
    "    svm_rbf = svm.SVC(kernel='rbf', class_weight={0:1, 1:w}, random_state=seed)\n",
    "    svm_rbf.fit(x_train, y_train)\n",
    "    y_pred_rbf = cross_val_predict(svm_rbf, x_train, y_train, cv = 10)\n",
    "    recall = recall_score(y_train, y_pred_rbf)\n",
    "    if recall > best_recall:\n",
    "        best_recall = recall\n",
    "        rbf_w = w\n",
    "\n",
    "print(f'Radial Basis Funciton Kernel recall: {best_recall}')\n",
    "print(f'Radial Basis Function Kernel weight: {rbf_w:.1f}')"
   ]
  },
  {
   "attachments": {},
   "cell_type": "markdown",
   "metadata": {},
   "source": [
    "##### Using SVMs with linear and radial basis function kernels"
   ]
  },
  {
   "cell_type": "code",
   "execution_count": 11,
   "metadata": {},
   "outputs": [],
   "source": [
    "# values found from optimization above\n",
    "# linear_w = 4.5\n",
    "# rbf_w = 4.0"
   ]
  },
  {
   "cell_type": "code",
   "execution_count": 12,
   "metadata": {},
   "outputs": [],
   "source": [
    "# computing predictions using the best weights for both the radial basis function and linear kernels\n",
    "svm_linear = svm.SVC(kernel='linear', class_weight={0:1, 1:linear_w}, random_state=seed)\n",
    "svm_linear.fit(x_train, y_train)\n",
    "y_pred_linear = svm_linear.predict(x_val)\n",
    "\n",
    "svm_rbf = svm.SVC(kernel='rbf', class_weight={0:1, 1:rbf_w}, random_state=seed)\n",
    "svm_rbf.fit(x_train, y_train)\n",
    "y_pred_rbf = svm_rbf.predict(x_val)"
   ]
  },
  {
   "cell_type": "code",
   "execution_count": 13,
   "metadata": {},
   "outputs": [
    {
     "name": "stdout",
     "output_type": "stream",
     "text": [
      "Linear Kernel metrics:\n",
      "Accuracy:\t0.455\n",
      "Recall:\t\t0.483\n",
      "Precision:\t0.117\n",
      "F1score:\t0.188\n",
      "True Neg:\t6.31%\n",
      "False Pos:\t6.76%\n",
      "False Neg:\t47.75%\n",
      "True Pos:\t39.19%\n",
      "\n",
      "\n",
      "Radial Basis Function Kernel metrics:\n",
      "Accuracy:\t0.869\n",
      "Recall:\t\t0.483\n",
      "Precision:\t0.500\n",
      "F1score:\t0.491\n",
      "True Neg:\t6.31%\n",
      "False Pos:\t6.76%\n",
      "False Neg:\t6.31%\n",
      "True Pos:\t80.63%\n"
     ]
    }
   ],
   "source": [
    "# similarly to the RF case:\n",
    "# computing the confusion matrices for the two kernels and defining the values that will be contained in the confusion matrix plots\n",
    "title = ['Linear Kernel', 'Radial Basis Function Kernel']\n",
    "\n",
    "for y_pred, i in zip([y_pred_linear, y_pred_rbf], [0, 1]):\n",
    "\n",
    "    cf_matrix = (confusion_matrix(y_val, y_pred, labels=[1, 0], sample_weight=None) / len(y_pred) * 100)\n",
    "\n",
    "    group_names = ['True Neg', 'False Pos', 'False Neg', 'True Pos']\n",
    "    group_percentages = ['{0:.2%}'.format(value) for value in cf_matrix.flatten()/np.sum(cf_matrix)]\n",
    "    labels = [f'{v1}\\n{v3}' for v1, v3 in zip(group_names, group_percentages)]\n",
    "    labels = np.asarray(labels).reshape(2,2)\n",
    "\n",
    "    print(f'{title[i]} metrics:')\n",
    "    print(f'Accuracy:\\t{accuracy_score(y_val, y_pred):.3f}')\n",
    "    print(f'Recall:\\t\\t{recall_score(y_val, y_pred):.3f}')\n",
    "    print(f'Precision:\\t{precision_score(y_val, y_pred):.3f}')\n",
    "    print(f'F1score:\\t{f1_score(y_val, y_pred):.3f}')\n",
    "    for var, val in zip(group_names, group_percentages):\n",
    "        print(f'{var}:\\t{val}')\n",
    "    if i==0: print('\\n')"
   ]
  },
  {
   "cell_type": "code",
   "execution_count": 14,
   "metadata": {},
   "outputs": [
    {
     "data": {
      "image/png": "[encoded data removed]",
      "text/plain": [
       "<Figure size 1120x480 with 4 Axes>"
      ]
     },
     "metadata": {},
     "output_type": "display_data"
    }
   ],
   "source": [
    "# plotting the two confusion matrices\n",
    "fig, axes = plt.subplots(1, 2, figsize=(14,6), dpi=80)\n",
    "\n",
    "for y_pred, i in zip([y_pred_linear, y_pred_rbf], [0, 1]):\n",
    "\n",
    "    cf_matrix = (confusion_matrix(y_val, y_pred, labels=[0, 1], sample_weight=None) / len(y_pred) * 100)\n",
    "\n",
    "    group_names = ['True Neg', 'False Pos', 'False Neg', 'True Pos']\n",
    "    group_percentages = ['{0:.2%}'.format(value) for value in cf_matrix.flatten()/np.sum(cf_matrix)]\n",
    "    labels = [f'{v1}\\n{v3}' for v1, v3 in zip(group_names, group_percentages)]\n",
    "    labels = np.asarray(labels).reshape(2,2)\n",
    "    \n",
    "    _ = sns.heatmap(cf_matrix, annot=labels, fmt='', ax=axes[i], cmap='Blues')\n",
    "    axes[i].set_title(title[i])"
   ]
  },
  {
   "attachments": {},
   "cell_type": "markdown",
   "metadata": {},
   "source": [
    "### LSTM"
   ]
  },
  {
   "attachments": {},
   "cell_type": "markdown",
   "metadata": {},
   "source": [
    "##### Function definition"
   ]
  },
  {
   "attachments": {},
   "cell_type": "markdown",
   "metadata": {},
   "source": [
    "- Defining <code>WINDOW</code> constant equal to $50$. This is the dimension of the window, which determines how much the network is able to look backward in order to correctly classify the last timestamp of the time series.\n",
    "\n",
    "- Defining <code>build_samples</code> to prepare data in order to feed it to the LSTM network. Data is divided into windows (which are <code>WINDOW</code> timestamps long) and reshaped into a <code>(samples, WINDOW, features)</code> dimensional tensor. \n",
    "\n",
    "- Defining <code>recall</code> metric in order to be able to use it during network training."
   ]
  },
  {
   "cell_type": "code",
   "execution_count": 6,
   "metadata": {},
   "outputs": [],
   "source": [
    "WINDOW = 50\n",
    "\n",
    "\n",
    "\n",
    "def build_samples(x, y, W=50):\n",
    "\n",
    "  samples = x.shape[0]\n",
    "  features = x.shape[1]\n",
    "\n",
    "  # defining the shape of the output data tensor\n",
    "  x_new = np.empty((samples-W+1, W, features))\n",
    "\n",
    "  # inserting the windows into the new data vector through looping and indexing\n",
    "  for i in range(x_new.shape[0]):\n",
    "    x_new[i] = x[i:i+W]\n",
    "\n",
    "  # reshaping also the labels (the first W-1 labels are discarded)\n",
    "  y_new = y[W-1:].reshape(y[W-1:].shape[0])\n",
    "\n",
    "  return x_new, y_new\n",
    "\n",
    "\n",
    "\n",
    "def recall(y_true, y_pred):\n",
    "\n",
    "  true_positives = K.sum(K.round(K.clip(y_true * y_pred, 0, 1)))\n",
    "  possible_positives = K.sum(K.round(K.clip(y_true, 0, 1)))\n",
    "  recall = true_positives / (possible_positives + K.epsilon())\n",
    "  return recall\n",
    "\n",
    "\n",
    "\n",
    "def f1score(y_true, y_pred):\n",
    "\n",
    "    true_positives = K.sum(K.round(K.clip(y_true * y_pred, 0, 1)))\n",
    "    predicted_positives = K.sum(K.round(K.clip(y_pred, 0, 1)))\n",
    "    possible_positives = K.sum(K.round(K.clip(y_true, 0, 1)))\n",
    "    precision = true_positives / (predicted_positives + K.epsilon())\n",
    "    recall = true_positives / (possible_positives + K.epsilon())\n",
    "    f1_score = 2*((precision*recall)/(precision+recall+K.epsilon()))\n",
    "    return f1_score"
   ]
  },
  {
   "attachments": {},
   "cell_type": "markdown",
   "metadata": {},
   "source": [
    "##### Data reshaping and model compiling"
   ]
  },
  {
   "attachments": {},
   "cell_type": "markdown",
   "metadata": {},
   "source": [
    "Since we do not want to lose <code>WINDOW-1</code> validation samples due to how <code>build_samples</code> function is designed, we use the last part of the training instances to build the <em>'windowed'</em> validation set. This can be done because the samples are not shuffled and the validation set samples are exactly subsequent to the training set ones."
   ]
  },
  {
   "cell_type": "code",
   "execution_count": 22,
   "metadata": {},
   "outputs": [],
   "source": [
    "# creating training instances using build_samples function\n",
    "x_train_window, y_train_window = build_samples(x_train.to_numpy(), y_train.to_numpy(), WINDOW)\n",
    "\n",
    "# creating validation instances using build_samples function\n",
    "x_val_window, y_val_window = build_samples(np.append(x_train[1-WINDOW:], x_val, axis=0),\n",
    "                                           np.append(y_train[1-WINDOW:], y_val, axis=0),\n",
    "                                           WINDOW)"
   ]
  },
  {
   "cell_type": "code",
   "execution_count": 23,
   "metadata": {},
   "outputs": [],
   "source": [
    "def build_LSTM(input_shape):\n",
    "\n",
    "    input_layer = tfkl.Input(shape=input_shape, name='Input')\n",
    "\n",
    "    LSTM1 = tfkl.LSTM(units=8, activation='relu', return_sequences=True, name='LSTM1')(input_layer)\n",
    "    LSTM2 = tfkl.LSTM(units=4, activation='relu', return_sequences=False, name='LSTM2')(LSTM1)\n",
    "    # dropout1 = tfkl.Dropout(0.3, name='dropout1')(LSTM2)\n",
    "    dense = tfkl.Dense(units=32, activation='relu', name='classifier')(LSTM2)\n",
    "    # dropout2 = tfkl.Dropout(0.3, name='dropout2')(dense)\n",
    "    output_layer = tfkl.Dense(units=1, activation='sigmoid', name='output')(dense)\n",
    "\n",
    "    model = tfk.Model(inputs=input_layer, outputs=output_layer, name='model')\n",
    "\n",
    "    model.compile(loss=tfk.losses.BinaryCrossentropy(), optimizer=tfk.optimizers.legacy.Adam(), metrics=[recall, f1score])\n",
    "\n",
    "    return model"
   ]
  },
  {
   "cell_type": "code",
   "execution_count": 24,
   "metadata": {},
   "outputs": [
    {
     "name": "stdout",
     "output_type": "stream",
     "text": [
      "Model: \"model\"\n",
      "_________________________________________________________________\n",
      " Layer (type)                Output Shape              Param #   \n",
      "=================================================================\n",
      " Input (InputLayer)          [(None, 50, 10)]          0         \n",
      "                                                                 \n",
      " LSTM1 (LSTM)                (None, 50, 8)             608       \n",
      "                                                                 \n",
      " LSTM2 (LSTM)                (None, 4)                 208       \n",
      "                                                                 \n",
      " classifier (Dense)          (None, 32)                160       \n",
      "                                                                 \n",
      " output (Dense)              (None, 1)                 33        \n",
      "                                                                 \n",
      "=================================================================\n",
      "Total params: 1009 (3.94 KB)\n",
      "Trainable params: 1009 (3.94 KB)\n",
      "Non-trainable params: 0 (0.00 Byte)\n",
      "_________________________________________________________________\n"
     ]
    }
   ],
   "source": [
    "input_shape = x_train_window.shape[1:]\n",
    "model = build_LSTM(input_shape)\n",
    "model.summary()"
   ]
  },
  {
   "attachments": {},
   "cell_type": "markdown",
   "metadata": {},
   "source": [
    "##### Model training"
   ]
  },
  {
   "cell_type": "code",
   "execution_count": 25,
   "metadata": {},
   "outputs": [
    {
     "name": "stdout",
     "output_type": "stream",
     "text": [
      "Epoch 1/100\n",
      "27/27 [==============================] - 1s 15ms/step - loss: 1.2884 - recall: 1.0000 - f1score: 0.3718 - val_loss: 0.7409 - val_recall: 1.0000 - val_f1score: 0.2267\n",
      "Epoch 2/100\n",
      "27/27 [==============================] - 0s 9ms/step - loss: 1.2298 - recall: 1.0000 - f1score: 0.3608 - val_loss: 0.7814 - val_recall: 1.0000 - val_f1score: 0.2267\n",
      "Epoch 3/100\n",
      "27/27 [==============================] - 0s 10ms/step - loss: 1.1612 - recall: 1.0000 - f1score: 0.3608 - val_loss: 0.7703 - val_recall: 1.0000 - val_f1score: 0.2267\n",
      "Epoch 4/100\n",
      "27/27 [==============================] - 0s 9ms/step - loss: 1.0612 - recall: 1.0000 - f1score: 0.3631 - val_loss: 0.7754 - val_recall: 1.0000 - val_f1score: 0.2600\n",
      "Epoch 5/100\n",
      "27/27 [==============================] - 0s 9ms/step - loss: 0.9517 - recall: 0.9630 - f1score: 0.3948 - val_loss: 0.7450 - val_recall: 0.9238 - val_f1score: 0.3400\n",
      "Epoch 6/100\n",
      "27/27 [==============================] - 0s 9ms/step - loss: 0.8945 - recall: 0.9511 - f1score: 0.5485 - val_loss: 0.6967 - val_recall: 0.8054 - val_f1score: 0.3750\n",
      "Epoch 7/100\n",
      "27/27 [==============================] - 0s 9ms/step - loss: 0.8451 - recall: 0.8576 - f1score: 0.6254 - val_loss: 0.7451 - val_recall: 0.8259 - val_f1score: 0.3879\n",
      "Epoch 8/100\n",
      "27/27 [==============================] - 0s 9ms/step - loss: 0.8181 - recall: 0.8762 - f1score: 0.6459 - val_loss: 0.6761 - val_recall: 0.8054 - val_f1score: 0.4165\n",
      "Epoch 9/100\n",
      "27/27 [==============================] - 0s 9ms/step - loss: 2.9752 - recall: 0.8828 - f1score: 0.6388 - val_loss: 1.1027 - val_recall: 0.9020 - val_f1score: 0.4582\n",
      "Epoch 10/100\n",
      "27/27 [==============================] - 0s 9ms/step - loss: 1.0044 - recall: 0.7713 - f1score: 0.6304 - val_loss: 0.6257 - val_recall: 0.7735 - val_f1score: 0.6186\n",
      "Epoch 11/100\n",
      "27/27 [==============================] - 0s 9ms/step - loss: 0.8893 - recall: 0.7776 - f1score: 0.6865 - val_loss: 0.5995 - val_recall: 0.7735 - val_f1score: 0.6339\n",
      "Epoch 12/100\n",
      "27/27 [==============================] - 0s 10ms/step - loss: 0.8515 - recall: 0.8411 - f1score: 0.6771 - val_loss: 0.6042 - val_recall: 0.8020 - val_f1score: 0.6150\n",
      "Epoch 13/100\n",
      "27/27 [==============================] - 0s 10ms/step - loss: 0.8243 - recall: 0.8115 - f1score: 0.6763 - val_loss: 0.5606 - val_recall: 0.8020 - val_f1score: 0.6387\n",
      "Epoch 14/100\n",
      "27/27 [==============================] - 0s 9ms/step - loss: 0.8035 - recall: 0.8482 - f1score: 0.6910 - val_loss: 0.5594 - val_recall: 0.7054 - val_f1score: 0.5515\n",
      "Epoch 15/100\n",
      "27/27 [==============================] - 0s 9ms/step - loss: 0.7861 - recall: 0.8099 - f1score: 0.6633 - val_loss: 0.5465 - val_recall: 0.7054 - val_f1score: 0.5505\n",
      "Epoch 16/100\n",
      "27/27 [==============================] - 0s 9ms/step - loss: 0.7622 - recall: 0.8461 - f1score: 0.7044 - val_loss: 0.5246 - val_recall: 0.7054 - val_f1score: 0.5436\n",
      "Epoch 17/100\n",
      "27/27 [==============================] - 0s 9ms/step - loss: 0.7434 - recall: 0.8050 - f1score: 0.6659 - val_loss: 0.5177 - val_recall: 0.6279 - val_f1score: 0.4822\n",
      "Epoch 18/100\n",
      "27/27 [==============================] - 0s 9ms/step - loss: 0.7311 - recall: 0.8365 - f1score: 0.7252 - val_loss: 0.5065 - val_recall: 0.6279 - val_f1score: 0.4845\n",
      "Epoch 19/100\n",
      "27/27 [==============================] - 0s 9ms/step - loss: 0.7174 - recall: 0.8354 - f1score: 0.7054 - val_loss: 0.5143 - val_recall: 0.5993 - val_f1score: 0.4410\n",
      "Epoch 20/100\n",
      "27/27 [==============================] - 0s 9ms/step - loss: 0.7074 - recall: 0.8603 - f1score: 0.7135 - val_loss: 0.5077 - val_recall: 0.5993 - val_f1score: 0.4410\n",
      "Epoch 21/100\n",
      "27/27 [==============================] - 0s 9ms/step - loss: 0.6938 - recall: 0.8114 - f1score: 0.6812 - val_loss: 0.5078 - val_recall: 0.5993 - val_f1score: 0.4398\n",
      "Epoch 22/100\n",
      "27/27 [==============================] - 0s 9ms/step - loss: 0.6738 - recall: 0.8617 - f1score: 0.7152 - val_loss: 0.4903 - val_recall: 0.5993 - val_f1score: 0.4501\n",
      "Epoch 23/100\n",
      "27/27 [==============================] - 0s 9ms/step - loss: 0.6656 - recall: 0.8770 - f1score: 0.7221 - val_loss: 0.5050 - val_recall: 0.5993 - val_f1score: 0.4450\n",
      "Epoch 24/100\n",
      "27/27 [==============================] - 0s 10ms/step - loss: 0.6554 - recall: 0.8714 - f1score: 0.7324 - val_loss: 0.4958 - val_recall: 0.5993 - val_f1score: 0.4501\n",
      "Epoch 25/100\n",
      "27/27 [==============================] - 0s 9ms/step - loss: 0.6462 - recall: 0.8743 - f1score: 0.7321 - val_loss: 0.5000 - val_recall: 0.5993 - val_f1score: 0.4450\n",
      "Epoch 26/100\n",
      "27/27 [==============================] - 0s 9ms/step - loss: 0.6421 - recall: 0.8642 - f1score: 0.7315 - val_loss: 0.5003 - val_recall: 0.5993 - val_f1score: 0.4450\n",
      "Epoch 27/100\n",
      "27/27 [==============================] - 0s 9ms/step - loss: 0.6376 - recall: 0.8563 - f1score: 0.7158 - val_loss: 0.4953 - val_recall: 0.5993 - val_f1score: 0.4514\n",
      "Epoch 28/100\n",
      "27/27 [==============================] - 0s 10ms/step - loss: 0.6426 - recall: 0.8512 - f1score: 0.7128 - val_loss: 0.5146 - val_recall: 0.5993 - val_f1score: 0.4410\n",
      "Epoch 29/100\n",
      "27/27 [==============================] - 0s 9ms/step - loss: 0.6313 - recall: 0.8649 - f1score: 0.7165 - val_loss: 0.5096 - val_recall: 0.5993 - val_f1score: 0.4410\n",
      "Epoch 30/100\n",
      "27/27 [==============================] - 0s 9ms/step - loss: 0.6215 - recall: 0.8412 - f1score: 0.7011 - val_loss: 0.5014 - val_recall: 0.5993 - val_f1score: 0.4474\n",
      "Epoch 31/100\n",
      "27/27 [==============================] - 0s 9ms/step - loss: 0.6188 - recall: 0.8726 - f1score: 0.7329 - val_loss: 0.5118 - val_recall: 0.5993 - val_f1score: 0.4345\n",
      "Epoch 32/100\n",
      "27/27 [==============================] - 0s 9ms/step - loss: 0.6154 - recall: 0.8911 - f1score: 0.7083 - val_loss: 0.5025 - val_recall: 0.5993 - val_f1score: 0.4314\n",
      "Epoch 33/100\n",
      "27/27 [==============================] - 0s 9ms/step - loss: 0.6144 - recall: 0.8566 - f1score: 0.7342 - val_loss: 0.5160 - val_recall: 0.5993 - val_f1score: 0.4410\n",
      "Epoch 34/100\n",
      "27/27 [==============================] - 0s 9ms/step - loss: 0.6192 - recall: 0.8643 - f1score: 0.7190 - val_loss: 0.4945 - val_recall: 0.6279 - val_f1score: 0.4522\n",
      "Epoch 35/100\n",
      "27/27 [==============================] - 0s 9ms/step - loss: 0.6069 - recall: 0.9054 - f1score: 0.7250 - val_loss: 0.5630 - val_recall: 0.6279 - val_f1score: 0.4211\n",
      "Epoch 36/100\n",
      "27/27 [==============================] - 0s 9ms/step - loss: 0.5992 - recall: 0.8756 - f1score: 0.7149 - val_loss: 0.5267 - val_recall: 0.6279 - val_f1score: 0.4403\n",
      "Epoch 37/100\n",
      "27/27 [==============================] - 0s 9ms/step - loss: 0.5982 - recall: 0.8828 - f1score: 0.7308 - val_loss: 0.5095 - val_recall: 0.6279 - val_f1score: 0.4403\n",
      "Epoch 38/100\n",
      "27/27 [==============================] - 0s 9ms/step - loss: 0.5929 - recall: 0.8984 - f1score: 0.7384 - val_loss: 0.5269 - val_recall: 0.6279 - val_f1score: 0.4351\n",
      "Epoch 39/100\n",
      "27/27 [==============================] - 0s 9ms/step - loss: 0.5868 - recall: 0.9070 - f1score: 0.7191 - val_loss: 0.5325 - val_recall: 0.6279 - val_f1score: 0.4276\n",
      "Epoch 40/100\n",
      "27/27 [==============================] - 0s 9ms/step - loss: 0.5891 - recall: 0.8599 - f1score: 0.7122 - val_loss: 0.5417 - val_recall: 0.6279 - val_f1score: 0.4276\n",
      "Epoch 41/100\n",
      "27/27 [==============================] - 0s 9ms/step - loss: 0.5853 - recall: 0.8880 - f1score: 0.7169 - val_loss: 0.5330 - val_recall: 0.6279 - val_f1score: 0.4304\n",
      "Epoch 42/100\n",
      "27/27 [==============================] - 0s 9ms/step - loss: 0.5830 - recall: 0.8653 - f1score: 0.7040 - val_loss: 0.5182 - val_recall: 0.6279 - val_f1score: 0.4356\n",
      "Epoch 43/100\n",
      "27/27 [==============================] - 0s 9ms/step - loss: 0.5784 - recall: 0.8947 - f1score: 0.7316 - val_loss: 0.5663 - val_recall: 0.6279 - val_f1score: 0.4179\n",
      "Epoch 44/100\n",
      "27/27 [==============================] - 0s 9ms/step - loss: 0.5782 - recall: 0.8955 - f1score: 0.7301 - val_loss: 0.4978 - val_recall: 0.6279 - val_f1score: 0.4458\n",
      "Epoch 45/100\n",
      "27/27 [==============================] - 0s 9ms/step - loss: 0.5718 - recall: 0.8936 - f1score: 0.7262 - val_loss: 0.5257 - val_recall: 0.6279 - val_f1score: 0.4207\n",
      "Epoch 46/100\n",
      "27/27 [==============================] - 0s 9ms/step - loss: 0.5712 - recall: 0.9000 - f1score: 0.7337 - val_loss: 0.5577 - val_recall: 0.6279 - val_f1score: 0.4207\n",
      "Epoch 47/100\n",
      "27/27 [==============================] - 0s 9ms/step - loss: 0.5690 - recall: 0.9223 - f1score: 0.7332 - val_loss: 0.5275 - val_recall: 0.6279 - val_f1score: 0.4272\n",
      "Epoch 48/100\n",
      "27/27 [==============================] - 0s 9ms/step - loss: 0.5668 - recall: 0.8941 - f1score: 0.7134 - val_loss: 0.5474 - val_recall: 0.6279 - val_f1score: 0.4128\n"
     ]
    }
   ],
   "source": [
    "epochs = 100\n",
    "batch_size = 32\n",
    "\n",
    "callbacks = [tfk.callbacks.EarlyStopping(monitor='f1score', mode='max', patience=10, restore_best_weights=True)]\n",
    "x_train_window, y_train_window = shuffle(x_train_window, y_train_window, random_state = seed)\n",
    "x_val_window, y_val_window = shuffle(x_val_window, y_val_window, random_state = seed)\n",
    "\n",
    "history = model.fit(\n",
    "    x = x_train_window,\n",
    "    y = y_train_window,\n",
    "    epochs = epochs,\n",
    "    batch_size = batch_size,\n",
    "    validation_data = (x_val_window, y_val_window),\n",
    "    callbacks = callbacks,\n",
    "    class_weight = {0:1, 1:5}  \n",
    ").history"
   ]
  },
  {
   "attachments": {},
   "cell_type": "markdown",
   "metadata": {},
   "source": [
    "##### Evaluating optimal threshold to maximize F1"
   ]
  },
  {
   "cell_type": "code",
   "execution_count": 26,
   "metadata": {},
   "outputs": [
    {
     "name": "stdout",
     "output_type": "stream",
     "text": [
      "7/7 [==============================] - 0s 2ms/step\n",
      "Best threshold: 0.80\n"
     ]
    }
   ],
   "source": [
    "y_val_pred = model.predict(x_val_window)\n",
    "\n",
    "start = 0.2\n",
    "stop = 0.8\n",
    "step = 0.05\n",
    "f1 = 0\n",
    "best_threshold = 0.5\n",
    "y_val_temp = np.copy(y_val_pred)\n",
    "\n",
    "for threshold in np.arange(start, stop+step, step):\n",
    "\n",
    "    y_val_temp[y_val_pred>=threshold]=1\n",
    "    y_val_temp[y_val_pred<threshold]=0\n",
    "\n",
    "    if f1_score(y_val_window, y_val_temp)>f1:\n",
    "        f1 = f1_score(y_val_window, y_val_temp)\n",
    "        best_threshold = threshold\n",
    "\n",
    "print(f'Best threshold: {best_threshold:.2f}')\n",
    "y_val_pred[y_val_pred>=best_threshold]=1\n",
    "y_val_pred[y_val_pred<best_threshold]=0"
   ]
  },
  {
   "attachments": {},
   "cell_type": "markdown",
   "metadata": {},
   "source": [
    "##### Results"
   ]
  },
  {
   "cell_type": "code",
   "execution_count": 27,
   "metadata": {},
   "outputs": [
    {
     "data": {
      "image/png": "[encoded data removed]",
      "text/plain": [
       "<Figure size 1700x400 with 2 Axes>"
      ]
     },
     "metadata": {},
     "output_type": "display_data"
    }
   ],
   "source": [
    "best_epoch = np.argmax(history['val_recall'])\n",
    "fig, axes = plt.subplots(1, 2, figsize=(17,4))\n",
    "\n",
    "axes[0].plot(history['loss'], label='Training loss', alpha=.8, color='#ff7f0e')\n",
    "axes[0].plot(history['val_loss'], label='Validation loss', alpha=.9, color='#5a9aa5')\n",
    "axes[0].set_title('Binary Crossentropy')\n",
    "axes[0].legend()\n",
    "axes[0].grid(alpha=.3)\n",
    "\n",
    "axes[1].plot(history['f1score'], label='Training F1 score', alpha=.8, color='#ff7f0e')\n",
    "axes[1].plot(history['val_f1score'], label='Validation F1 score', alpha=.9, color='#5a9aa5')\n",
    "axes[1].set_title('F1 score')\n",
    "axes[1].legend()\n",
    "axes[1].grid(alpha=.3)"
   ]
  },
  {
   "cell_type": "code",
   "execution_count": 28,
   "metadata": {},
   "outputs": [
    {
     "name": "stdout",
     "output_type": "stream",
     "text": [
      "Accuracy:\t0.892\n",
      "Recall:\t\t0.448\n",
      "Precision:\t0.619\n",
      "F1score:\t0.520\n",
      "True Neg:\t83.33%\n",
      "False Pos:\t3.60%\n",
      "False Neg:\t7.21%\n",
      "True Pos:\t5.86%\n"
     ]
    }
   ],
   "source": [
    "cf_matrix = (confusion_matrix(y_val_window, y_val_pred, labels=[0, 1], sample_weight=None) / len(y_val_window) * 100)\n",
    "\n",
    "group_names = ['True Neg', 'False Pos', 'False Neg', 'True Pos']\n",
    "group_percentages = ['{0:.2%}'.format(value) for value in cf_matrix.flatten()/np.sum(cf_matrix)]\n",
    "labels = [f'{v1}\\n{v3}' for v1, v3 in zip(group_names, group_percentages)]\n",
    "labels = np.asarray(labels).reshape(2,2)\n",
    "\n",
    "print(f'Accuracy:\\t{accuracy_score(y_val_window, y_val_pred):.3f}')\n",
    "print(f'Recall:\\t\\t{recall_score(y_val_window, y_val_pred):.3f}')\n",
    "print(f'Precision:\\t{precision_score(y_val_window, y_val_pred):.3f}')\n",
    "print(f'F1score:\\t{f1_score(y_val_window, y_val_pred):.3f}')\n",
    "for var, val in zip(group_names, group_percentages):\n",
    "  print(f'{var}:\\t{val}')"
   ]
  },
  {
   "cell_type": "code",
   "execution_count": 29,
   "metadata": {},
   "outputs": [
    {
     "data": {
      "image/png": "[encoded data removed]",
      "text/plain": [
       "<Figure size 640x480 with 2 Axes>"
      ]
     },
     "metadata": {},
     "output_type": "display_data"
    }
   ],
   "source": [
    "_ = sns.heatmap(cf_matrix, annot=labels, fmt='', cmap='Blues')"
   ]
  },
  {
   "cell_type": "code",
   "execution_count": 30,
   "metadata": {},
   "outputs": [],
   "source": [
    "original_stdout = sys.stdout\n",
    "\n",
    "with open('log.txt', 'a') as log_file:\n",
    "    sys.stdout = log_file\n",
    "    model.summary()\n",
    "    print(f'Accuracy:\\t{accuracy_score(y_val_window, y_val_pred):.3f}')\n",
    "    print(f'Recall:\\t\\t{recall_score(y_val_window, y_val_pred):.3f}')\n",
    "    print(f'Precision:\\t{precision_score(y_val_window, y_val_pred):.3f}')\n",
    "    print(f'F1score:\\t{f1_score(y_val_window, y_val_pred):.3f}')\n",
    "    for var, val in zip(group_names, group_percentages):\n",
    "        print(f'{var}:\\t{val}')\n",
    "    print('\\n\\n\\n')\n",
    "    sys.stdout = original_stdout"
   ]
  },
  {
   "attachments": {},
   "cell_type": "markdown",
   "metadata": {},
   "source": [
    "### Transformer"
   ]
  },
  {
   "attachments": {},
   "cell_type": "markdown",
   "metadata": {},
   "source": [
    "### Autoencoder (fully connected)"
   ]
  },
  {
   "attachments": {},
   "cell_type": "markdown",
   "metadata": {},
   "source": [
    "### Autoencoder (convolutional)"
   ]
  },
  {
   "attachments": {},
   "cell_type": "markdown",
   "metadata": {},
   "source": [
    "### Copulas"
   ]
  },
  {
   "attachments": {},
   "cell_type": "markdown",
   "metadata": {},
   "source": [
    "### Final model: Ensamble Averaging"
   ]
  },
  {
   "attachments": {},
   "cell_type": "markdown",
   "metadata": {},
   "source": [
    "# Portfolio"
   ]
  }
 ],
 "metadata": {
  "kernelspec": {
   "display_name": "Python 3",
   "language": "python",
   "name": "python3"
  },
  "language_info": {
   "codemirror_mode": {
    "name": "ipython",
    "version": 3
   },
   "file_extension": ".py",
   "mimetype": "text/x-python",
   "name": "python",
   "nbconvert_exporter": "python",
   "pygments_lexer": "ipython3",
   "version": "3.10.11"
  },
  "orig_nbformat": 4,
  "vscode": {
   "interpreter": {
    "hash": "cf44e1cfd43590f45f0e2b5c28e0f46babf55befe4ad1bacdd60a06d73372734"
   }
  }
 },
 "nbformat": 4,
 "nbformat_minor": 2
}
